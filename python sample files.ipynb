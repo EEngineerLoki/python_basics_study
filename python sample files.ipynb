{
 "cells": [
  {
   "cell_type": "code",
   "execution_count": 1,
   "metadata": {},
   "outputs": [
    {
     "name": "stdout",
     "output_type": "stream",
     "text": [
      "Hello World\n"
     ]
    }
   ],
   "source": [
    "print('Hello World')"
   ]
  },
  {
   "cell_type": "code",
   "execution_count": 75,
   "metadata": {},
   "outputs": [
    {
     "name": "stdout",
     "output_type": "stream",
     "text": [
      "Box Number Pattern of 1 and 0\n",
      "1  1  1  1  1  1  1  1  1  \n",
      "1                       1  \n",
      "1                       1  \n",
      "1                       1  \n",
      "1  1  1  1  1  1  1  1  1  \n"
     ]
    }
   ],
   "source": [
    "# Python Program to Print Box Number Pattern of 1 and 0\n",
    " \n",
    "rows = int(input(\"Please Enter the total Number of Rows  : \"))\n",
    "columns = int(input(\"Please Enter the total Number of Columns  : \"))\n",
    "\n",
    "print(\"Box Number Pattern of 1 and 0\") \n",
    " \n",
    "for i in range(1, rows + 1):\n",
    "    for j in range(1, columns + 1):\n",
    "        if(i == 1 or i == rows or j == 1 or j == columns):          \n",
    "            print('1', end = '  ')\n",
    "        else:\n",
    "            print(' ', end = '  ')\n",
    "    print()"
   ]
  },
  {
   "cell_type": "code",
   "execution_count": 2,
   "metadata": {},
   "outputs": [
    {
     "name": "stdout",
     "output_type": "stream",
     "text": [
      "\n",
      "*\n",
      "**\n"
     ]
    }
   ],
   "source": [
    "char = '*'\n",
    "iterations = int(input('Please Input the Number of Iterations: '))\n",
    "\n",
    "for i in range(iterations):\n",
    "    print(char * i  )"
   ]
  },
  {
   "cell_type": "code",
   "execution_count": 122,
   "metadata": {},
   "outputs": [
    {
     "name": "stdout",
     "output_type": "stream",
     "text": [
      "                 *   *   *   *   *   **   **   **   **   **   ***   ***   ***   ***   ***   ****   ****   ****   ****   **** "
     ]
    }
   ],
   "source": [
    "char = '*'\n",
    "iterations = int(input('Please Input the Number of Iterations: '))\n",
    "\n",
    "for i in range(0, iterations):\n",
    "    for j in range(0, iterations):\n",
    "        if(i < iterations):\n",
    "            print(' ', char * i, end=' ')"
   ]
  }
 ],
 "metadata": {
  "kernelspec": {
   "display_name": "Python 3",
   "language": "python",
   "name": "python3"
  },
  "language_info": {
   "codemirror_mode": {
    "name": "ipython",
    "version": 3
   },
   "file_extension": ".py",
   "mimetype": "text/x-python",
   "name": "python",
   "nbconvert_exporter": "python",
   "pygments_lexer": "ipython3",
   "version": "3.10.11"
  },
  "orig_nbformat": 4
 },
 "nbformat": 4,
 "nbformat_minor": 2
}
