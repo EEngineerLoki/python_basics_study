{
 "cells": [
  {
   "cell_type": "code",
   "execution_count": null,
   "metadata": {},
   "outputs": [],
   "source": [
    "#! python3\n",
    "# mapIt.py - Launches a map in the browser using an address from the\n",
    "# command line or clipboard.\n",
    "import webbrowser, sys, pyperclip\n",
    "if len(sys.argv) > 1:\n",
    "    # Get address from command line.\n",
    "    address = ' '.join(sys.argv[1:])\n",
    "else:\n",
    "# Get address from clipboard.\n",
    "    address = pyperclip.paste('Hills+View+Village/')\n",
    "webbrowser.open('https://www.google.com/maps/place/' + address)"
   ]
  },
  {
   "cell_type": "code",
   "execution_count": null,
   "metadata": {},
   "outputs": [],
   "source": [
    "#Function Exercise Collatz Number\n",
    "number = int(input('Enter your Number:'))\n",
    "\n",
    "def collatz(number):\n",
    "    while number != 1:\n",
    "        if number % 2 == 0:\n",
    "            number = number // 2\n",
    "            print(number)\n",
    "            collatz(number)\n",
    "        else:\n",
    "            number = number * 3 + 1\n",
    "            print(number)\n",
    "            collatz(number)\n",
    "\n",
    "collatz(number)"
   ]
  },
  {
   "cell_type": "code",
   "execution_count": null,
   "metadata": {},
   "outputs": [],
   "source": [
    "#List Exercise Cat Names with Numbers\n",
    "catNames = []\n",
    "\n",
    "while True:\n",
    "    print('Enter Cat Name No.'+ str(len(catNames) + 1), '(Press Enter to Stop):')\n",
    "    name = input()\n",
    "    if name == '':\n",
    "        break\n",
    "    catNames.append(name)\n",
    "    # catNames += [name]\n",
    "print('\\nCat List:')\n",
    "for i in range(len(catNames)):\n",
    "    print('Cat No.'+ str(i + 1), catNames[i])"
   ]
  },
  {
   "cell_type": "code",
   "execution_count": null,
   "metadata": {},
   "outputs": [],
   "source": [
    "#Removing From a List \n",
    "names = ['Aydrave', 'Aila', 'Andrew', 'Mark']\n",
    "toRemove = input().capitalize()\n",
    "remove = toRemove in names\n",
    "\n",
    "if remove:\n",
    "    del names[names.index(toRemove)]\n",
    "    print(names)\n",
    "else:\n",
    "    print('Name not included')"
   ]
  },
  {
   "cell_type": "code",
   "execution_count": null,
   "metadata": {},
   "outputs": [],
   "source": [
    "#List Manipulation\n",
    "def eggs(data):\n",
    "    data[-1] = 'and cat'\n",
    "    return print(*data, sep=', ')\n",
    "\n",
    "spam = ['apples', 'bananas', 'tofu', 'cats']\n",
    "eggs(spam)"
   ]
  },
  {
   "cell_type": "code",
   "execution_count": null,
   "metadata": {},
   "outputs": [],
   "source": [
    "#Dictionary as database \n",
    "birthdays = {}\n",
    "\n",
    "while True:\n",
    "    print('Enter Name to Access Birthday Records: (Press Enter When None)')\n",
    "    name = input().capitalize()\n",
    "\n",
    "    if name in birthdays:\n",
    "        print(name + \"'s\", 'birthday is on', birthdays[name])\n",
    "        break\n",
    "    else:\n",
    "        print('Name not Recognized\\n Would you like to save permanent records of ', name, 'on our database?')\n",
    "        print('Press Y/N to continue')\n",
    "        ans = input().upper()\n",
    "        if ans == 'Y':\n",
    "            birthRecord = input('Enter Date of Birth: ').capitalize()\n",
    "            birthdays[name] = birthRecord\n",
    "            print('Database Successfully Updated!')\n",
    "            break\n",
    "        elif ans == 'N':\n",
    "            print('Very Well')\n",
    "            break\n",
    "        else:\n",
    "            print('Answer Do not Match!')\n",
    "            break\n",
    "\n",
    "birthdays"
   ]
  },
  {
   "cell_type": "code",
   "execution_count": null,
   "metadata": {},
   "outputs": [],
   "source": [
    "#Counting Characters in a String\n",
    "import pprint\n",
    "\n",
    "message = 'It was a bright cold day in April, and the clocks were striking thirteen.'\n",
    "count = {}\n",
    "for character in message:\n",
    "    count.setdefault(character, 0)\n",
    "    count[character] = count[character] + 1\n",
    "print(pprint.pformat(count))"
   ]
  },
  {
   "cell_type": "code",
   "execution_count": null,
   "metadata": {},
   "outputs": [],
   "source": [
    "#Basic Tic-Tac Toe Game\n",
    "theBoard = {'top-L': ' ', 'top-M': ' ', 'top-R': ' ',\n",
    "            'mid-L': ' ', 'mid-M': ' ', 'mid-R': ' ',\n",
    "            'low-L': ' ', 'low-M': ' ', 'low-R': ' '}\n",
    "\n",
    "def printBoard(board):\n",
    "    print(board['top-L'] + '|' + board['top-M'] + '|' + board['top-R'])\n",
    "    print('-+-+-')\n",
    "    print(board['mid-L'] + '|' + board['mid-M'] + '|' + board['mid-R'])\n",
    "    print('-+-+-')\n",
    "    print(board['low-L'] + '|' + board['low-M'] + '|' + board['low-R'])\n",
    "\n",
    "turn = 'X'\n",
    "for i in range(9):\n",
    "    printBoard(theBoard)\n",
    "    print('Turn for ' + turn + '. Move on which space?')\n",
    "    move = input()\n",
    "    theBoard[move] = turn\n",
    "    if turn == 'X':\n",
    "        turn = 'O'\n",
    "    else:\n",
    "        turn = 'X' \n",
    "printBoard(theBoard)"
   ]
  },
  {
   "cell_type": "code",
   "execution_count": null,
   "metadata": {},
   "outputs": [],
   "source": [
    "#Item Counter Using Dictionary\n",
    "allGuests = {'Alice': {'eggs': 3, 'plates': 3},\n",
    "             'Peter': {'eggs': 2, 'beef': 1},\n",
    "             'John': {'eggs': 4, 'salmon': 5}}\n",
    "\n",
    "def totalBrought(guests, item):\n",
    "    \n",
    "    numbersBrought = 0\n",
    "    for k, v in guests.items():\n",
    "        numbersBrought += v.get(item, 0)\n",
    "    return numbersBrought\n",
    "\n",
    "print('Total Items Brought in Each Category:')\n",
    "print(' - Eggs: ' + str(totalBrought(allGuests, 'eggs')))\n",
    "print(' - Cups: ' + str(totalBrought(allGuests, 'plates')))\n",
    "print(' - Beef: ' + str(totalBrought(allGuests, 'beef')))\n",
    "print(' - Salmon: ' + str(totalBrought(allGuests, 'salmon')))"
   ]
  },
  {
   "cell_type": "code",
   "execution_count": null,
   "metadata": {},
   "outputs": [],
   "source": [
    "#Password Generator and Validator\n",
    "while True:\n",
    "    print('Enter Username:')\n",
    "    name = input()\n",
    "    if name.isalnum():\n",
    "        print('Username Validated.')\n",
    "    age = input('Enter your age:')\n",
    "    if age.isdecimal():\n",
    "        print('Age Verified!')\n",
    "        break\n",
    "    print('Input the Proper Values.')\n",
    "while True:\n",
    "    password = input('Enter Password:')\n",
    "    if password.isalnum():\n",
    "        print('Password Saved to Our Database.')\n",
    "        break"
   ]
  },
  {
   "cell_type": "code",
   "execution_count": null,
   "metadata": {},
   "outputs": [],
   "source": [
    "#Menu Items Sample Dictionary\n",
    "def menu(itemsMenu, leftWidth, rightWidth):\n",
    "    print('Available Items'.center(leftWidth + rightWidth, '='))\n",
    "    print('Menu'.ljust(leftWidth) + 'Prices'.rjust(rightWidth))\n",
    "    for k,v in itemsMenu.items():\n",
    "        print(k.ljust(leftWidth,'.') + str(v).rjust(rightWidth))\n",
    "\n",
    "availableMenu = {'sandwiches': 230, 'burger':287, 'hawaiian-pizza': 499, 'milktea': 180}\n",
    "menu(availableMenu, 20, 7)"
   ]
  },
  {
   "cell_type": "code",
   "execution_count": 16,
   "metadata": {},
   "outputs": [
    {
     "name": "stdout",
     "output_type": "stream",
     "text": [
      "Phone Number found: 415-555-1011\n",
      "Phone Number found: 415-555-9999\n",
      "Done\n"
     ]
    }
   ],
   "source": [
    "#Phone Number Identifier Function\n",
    "def isPhonenumber(text):\n",
    "    if len(text) != 12:\n",
    "        return False\n",
    "    for i in range(0,3):\n",
    "        if not text[i].isdecimal():\n",
    "            return False\n",
    "    if text[3] != \"-\":\n",
    "        return False\n",
    "    for i in range(4,7):\n",
    "        if not text[i].isdecimal():\n",
    "            return False\n",
    "    if text[7] != \"-\":\n",
    "        return False\n",
    "    for i in range(8,12):\n",
    "        if not text[i].isdecimal():\n",
    "            return False\n",
    "    return True\n",
    "\n",
    "# num = str(input('Phone Number: '))\n",
    "# print(f'{num} is a phone number:','\\n', isPhonenumber(num))\n",
    "\n",
    "#Code to Print Existing Phone Numbers Present on Text\n",
    "message = 'Call me at 415-555-1011 tomorrow. 415-555-9999 is my office.'\n",
    "for i in range(len(message)):\n",
    "    chunk = message[i:i+12]\n",
    "    if isPhonenumber(chunk):\n",
    "        print(f'Phone Number found: {chunk}')\n",
    "print('Done')"
   ]
  },
  {
   "cell_type": "code",
   "execution_count": 18,
   "metadata": {},
   "outputs": [
    {
     "name": "stdout",
     "output_type": "stream",
     "text": [
      "Phone number found: 415-555-4242\n"
     ]
    }
   ],
   "source": [
    "#Finding Phone Number in Text Using Regex\n",
    "import re\n",
    "\n",
    "phoneNumberRegex = re.compile(r'\\d\\d\\d-\\d\\d\\d-\\d\\d\\d\\d')\n",
    "mo = phoneNumberRegex.search('My number is 415-555-4242.')\n",
    "print('Phone number found:', mo.group())"
   ]
  },
  {
   "cell_type": "code",
   "execution_count": null,
   "metadata": {},
   "outputs": [],
   "source": []
  }
 ],
 "metadata": {
  "kernelspec": {
   "display_name": "Python 3",
   "language": "python",
   "name": "python3"
  },
  "language_info": {
   "codemirror_mode": {
    "name": "ipython",
    "version": 3
   },
   "file_extension": ".py",
   "mimetype": "text/x-python",
   "name": "python",
   "nbconvert_exporter": "python",
   "pygments_lexer": "ipython3",
   "version": "3.10.11"
  },
  "orig_nbformat": 4
 },
 "nbformat": 4,
 "nbformat_minor": 2
}
